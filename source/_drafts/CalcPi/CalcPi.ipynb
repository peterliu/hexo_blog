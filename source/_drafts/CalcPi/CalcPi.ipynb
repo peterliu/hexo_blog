{
 "cells": [
  {
   "cell_type": "code",
   "execution_count": 1,
   "metadata": {},
   "outputs": [
    {
     "name": "stdout",
     "output_type": "stream",
     "text": [
      "step  \t  |  edge    \t  |  pi\n",
      "---|---|---\n",
      "0  \t  |         6  \t  |  3.000000000000000\n",
      "1  \t  |        12  \t  |  3.105828541230249\n",
      "2  \t  |        24  \t  |  3.132628613281238\n",
      "3  \t  |        48  \t  |  3.139350203046867\n",
      "4  \t  |        96  \t  |  3.141031950890510\n",
      "5  \t  |       192  \t  |  3.141452472285462\n",
      "6  \t  |       384  \t  |  3.141557607911858\n",
      "7  \t  |       768  \t  |  3.141583892148319\n",
      "8  \t  |      1536  \t  |  3.141590463228050\n",
      "9  \t  |      3072  \t  |  3.141592105999272\n",
      "10  \t  |      6144  \t  |  3.141592516692158\n",
      "11  \t  |     12288  \t  |  3.141592619365384\n",
      "12  \t  |     24576  \t  |  3.141592645033691\n",
      "13  \t  |     49152  \t  |  3.141592651450768\n",
      "14  \t  |     98304  \t  |  3.141592653055037\n",
      "15  \t  |    196608  \t  |  3.141592653456105\n",
      "16  \t  |    393216  \t  |  3.141592653556372\n",
      "17  \t  |    786432  \t  |  3.141592653581438\n",
      "18  \t  |   1572864  \t  |  3.141592653587705\n",
      "19  \t  |   3145728  \t  |  3.141592653589271\n"
     ]
    }
   ],
   "source": [
    "import math\n",
    "\n",
    "i = 0       # 计算步数\n",
    "k = 1       # 切割次数，多边形边数/6   的倍数\n",
    "\n",
    "def print_pi():\n",
    "    print(\"%d  \\t  |  %8d  \\t  |  %1.15f\" % (i, k*6, p))\n",
    "\n",
    "\n",
    "print(\"step  \\t  |  edge    \\t  |  pi\")\n",
    "print(\"----  \\t  |  ----    \\t  |  ---\")\n",
    "\n",
    "ab = 1.0    # 多边形每一个边的长度\n",
    "\n",
    "# Pi = 多边形边长 / 直径 = 6 * k * ab / 2 \n",
    "p = k * 3.0 * ab\n",
    "print_pi()\n",
    "\n",
    "for i in range(1, 20):\n",
    "    ab = math.sqrt( (1.0 - math.sqrt(1.0 - (ab/2)**2))**2 + (ab/2)**2 )\n",
    "    k *= 2\n",
    "    p = k * 3.0 * ab\n",
    "    print_pi()\n",
    "    "
   ]
  }
 ],
 "metadata": {
  "kernelspec": {
   "display_name": "Python 3.10.5 64-bit",
   "language": "python",
   "name": "python3"
  },
  "language_info": {
   "codemirror_mode": {
    "name": "ipython",
    "version": 3
   },
   "file_extension": ".py",
   "mimetype": "text/x-python",
   "name": "python",
   "nbconvert_exporter": "python",
   "pygments_lexer": "ipython3",
   "version": "3.10.5"
  },
  "orig_nbformat": 4,
  "vscode": {
   "interpreter": {
    "hash": "33d28034a40fb26a1b90fdddace8cbc950f29dc0f0f4e470fe27d4e91395974f"
   }
  }
 },
 "nbformat": 4,
 "nbformat_minor": 2
}
